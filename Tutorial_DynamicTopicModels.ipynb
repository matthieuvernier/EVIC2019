{
 "cells": [
  {
   "cell_type": "markdown",
   "metadata": {},
   "source": [
    "# EVIC2019 - Tutorial de Dynamic Topic Models en el contexto del estallido social en Chile"
   ]
  },
  {
   "cell_type": "markdown",
   "metadata": {},
   "source": [
    "# 1. Definición del Dataset y de sus _Slices_"
   ]
  },
  {
   "cell_type": "code",
   "execution_count": 374,
   "metadata": {},
   "outputs": [],
   "source": [
    "import pandas as pd\n",
    "from pandasql import sqldf #para utilizar una síntaxis SQL para consultar nuestros datos"
   ]
  },
  {
   "cell_type": "markdown",
   "metadata": {},
   "source": [
    "La carpeta _datasets_ contiene un archivo CSV llamado 'dataset_eldinamo_13122019.csv'. Corresponde a un dataset de noticias del medio \"El Dinamo\" entre el 4 de octubre 2019 y el 13 de diciembre 2019."
   ]
  },
  {
   "cell_type": "code",
   "execution_count": 375,
   "metadata": {},
   "outputs": [
    {
     "data": {
      "text/html": [
       "<div>\n",
       "<style scoped>\n",
       "    .dataframe tbody tr th:only-of-type {\n",
       "        vertical-align: middle;\n",
       "    }\n",
       "\n",
       "    .dataframe tbody tr th {\n",
       "        vertical-align: top;\n",
       "    }\n",
       "\n",
       "    .dataframe thead th {\n",
       "        text-align: right;\n",
       "    }\n",
       "</style>\n",
       "<table border=\"1\" class=\"dataframe\">\n",
       "  <thead>\n",
       "    <tr style=\"text-align: right;\">\n",
       "      <th></th>\n",
       "      <th>url</th>\n",
       "      <th>date</th>\n",
       "      <th>text</th>\n",
       "    </tr>\n",
       "  </thead>\n",
       "  <tbody>\n",
       "    <tr>\n",
       "      <th>0</th>\n",
       "      <td>https://www.eldinamo.cl/nacional/2019/12/13/mo...</td>\n",
       "      <td>13 de Diciembre de 2019</td>\n",
       "      <td>El ministro de Vivienda  Cristián Monckeberg  ...</td>\n",
       "    </tr>\n",
       "    <tr>\n",
       "      <th>1</th>\n",
       "      <td>https://www.eldinamo.cl/nacional/2019/12/13/go...</td>\n",
       "      <td>13 de Diciembre de 2019</td>\n",
       "      <td>La Moneda informó que Sebastián Piñera decretó...</td>\n",
       "    </tr>\n",
       "    <tr>\n",
       "      <th>2</th>\n",
       "      <td>https://www.eldinamo.cl/nacional/2019/12/13/co...</td>\n",
       "      <td>13 de Diciembre de 2019</td>\n",
       "      <td>La Corte de apelaciones de Santiago declaró ad...</td>\n",
       "    </tr>\n",
       "    <tr>\n",
       "      <th>3</th>\n",
       "      <td>https://www.eldinamo.cl/nacional/2019/12/13/in...</td>\n",
       "      <td>13 de Diciembre de 2019</td>\n",
       "      <td>Luego que durante esta mañana la Organización ...</td>\n",
       "    </tr>\n",
       "    <tr>\n",
       "      <th>4</th>\n",
       "      <td>https://www.eldinamo.cl/nacional/2019/12/13/in...</td>\n",
       "      <td>13 de Diciembre de 2019</td>\n",
       "      <td>Tras varias semanas de espera  la misión de ob...</td>\n",
       "    </tr>\n",
       "  </tbody>\n",
       "</table>\n",
       "</div>"
      ],
      "text/plain": [
       "                                                 url                     date  \\\n",
       "0  https://www.eldinamo.cl/nacional/2019/12/13/mo...  13 de Diciembre de 2019   \n",
       "1  https://www.eldinamo.cl/nacional/2019/12/13/go...  13 de Diciembre de 2019   \n",
       "2  https://www.eldinamo.cl/nacional/2019/12/13/co...  13 de Diciembre de 2019   \n",
       "3  https://www.eldinamo.cl/nacional/2019/12/13/in...  13 de Diciembre de 2019   \n",
       "4  https://www.eldinamo.cl/nacional/2019/12/13/in...  13 de Diciembre de 2019   \n",
       "\n",
       "                                                text  \n",
       "0  El ministro de Vivienda  Cristián Monckeberg  ...  \n",
       "1  La Moneda informó que Sebastián Piñera decretó...  \n",
       "2  La Corte de apelaciones de Santiago declaró ad...  \n",
       "3  Luego que durante esta mañana la Organización ...  \n",
       "4  Tras varias semanas de espera  la misión de ob...  "
      ]
     },
     "execution_count": 375,
     "metadata": {},
     "output_type": "execute_result"
    }
   ],
   "source": [
    "dataset=\"datasets/dataset_eldinamo_13122019.csv\"\n",
    "df = pd.read_csv(dataset)\n",
    "df[:5]"
   ]
  },
  {
   "cell_type": "code",
   "execution_count": 376,
   "metadata": {},
   "outputs": [
    {
     "name": "stdout",
     "output_type": "stream",
     "text": [
      "Número de documentos: 453\n"
     ]
    }
   ],
   "source": [
    "print(\"Número de documentos: \"+str(df.count()[0]))"
   ]
  },
  {
   "cell_type": "markdown",
   "metadata": {},
   "source": [
    "Cambiamos el formato de las fechas para poder utilizar la información más facilmente."
   ]
  },
  {
   "cell_type": "code",
   "execution_count": 377,
   "metadata": {},
   "outputs": [],
   "source": [
    "#Modificar la columna \"date\" para que sea reconocida como fecha y no como texto.\n",
    "df['date']= df['date'].replace(\" de Diciembre de \", \"/12/\",regex=True)\n",
    "df['date']= df['date'].replace(\" de Noviembre de \", \"/11/\",regex=True)\n",
    "df['date']= df['date'].replace(\" de Octubre de \", \"/10/\",regex=True) \n",
    "df['date'] =pd.to_datetime(df['date'],format=\"%d/%m/%Y\").dt.date"
   ]
  },
  {
   "cell_type": "markdown",
   "metadata": {},
   "source": [
    "Para definir cómo dividir el dataset en distintos periodos de tiempo, miremos primero cuántos documentos tenemos y cómo se distribuyen en el tiempo:"
   ]
  },
  {
   "cell_type": "code",
   "execution_count": 378,
   "metadata": {},
   "outputs": [
    {
     "data": {
      "text/html": [
       "<div>\n",
       "<style scoped>\n",
       "    .dataframe tbody tr th:only-of-type {\n",
       "        vertical-align: middle;\n",
       "    }\n",
       "\n",
       "    .dataframe tbody tr th {\n",
       "        vertical-align: top;\n",
       "    }\n",
       "\n",
       "    .dataframe thead th {\n",
       "        text-align: right;\n",
       "    }\n",
       "</style>\n",
       "<table border=\"1\" class=\"dataframe\">\n",
       "  <thead>\n",
       "    <tr style=\"text-align: right;\">\n",
       "      <th></th>\n",
       "      <th>fecha</th>\n",
       "      <th>documentos</th>\n",
       "    </tr>\n",
       "  </thead>\n",
       "  <tbody>\n",
       "    <tr>\n",
       "      <th>0</th>\n",
       "      <td>2019-10-04</td>\n",
       "      <td>2</td>\n",
       "    </tr>\n",
       "    <tr>\n",
       "      <th>1</th>\n",
       "      <td>2019-10-05</td>\n",
       "      <td>3</td>\n",
       "    </tr>\n",
       "    <tr>\n",
       "      <th>2</th>\n",
       "      <td>2019-10-06</td>\n",
       "      <td>3</td>\n",
       "    </tr>\n",
       "    <tr>\n",
       "      <th>3</th>\n",
       "      <td>2019-10-07</td>\n",
       "      <td>8</td>\n",
       "    </tr>\n",
       "    <tr>\n",
       "      <th>4</th>\n",
       "      <td>2019-10-08</td>\n",
       "      <td>5</td>\n",
       "    </tr>\n",
       "    <tr>\n",
       "      <th>5</th>\n",
       "      <td>2019-10-09</td>\n",
       "      <td>8</td>\n",
       "    </tr>\n",
       "    <tr>\n",
       "      <th>6</th>\n",
       "      <td>2019-10-10</td>\n",
       "      <td>8</td>\n",
       "    </tr>\n",
       "    <tr>\n",
       "      <th>7</th>\n",
       "      <td>2019-10-11</td>\n",
       "      <td>6</td>\n",
       "    </tr>\n",
       "    <tr>\n",
       "      <th>8</th>\n",
       "      <td>2019-10-12</td>\n",
       "      <td>3</td>\n",
       "    </tr>\n",
       "    <tr>\n",
       "      <th>9</th>\n",
       "      <td>2019-10-13</td>\n",
       "      <td>2</td>\n",
       "    </tr>\n",
       "    <tr>\n",
       "      <th>10</th>\n",
       "      <td>2019-10-14</td>\n",
       "      <td>6</td>\n",
       "    </tr>\n",
       "    <tr>\n",
       "      <th>11</th>\n",
       "      <td>2019-10-15</td>\n",
       "      <td>8</td>\n",
       "    </tr>\n",
       "    <tr>\n",
       "      <th>12</th>\n",
       "      <td>2019-10-16</td>\n",
       "      <td>8</td>\n",
       "    </tr>\n",
       "    <tr>\n",
       "      <th>13</th>\n",
       "      <td>2019-10-17</td>\n",
       "      <td>6</td>\n",
       "    </tr>\n",
       "    <tr>\n",
       "      <th>14</th>\n",
       "      <td>2019-10-18</td>\n",
       "      <td>10</td>\n",
       "    </tr>\n",
       "    <tr>\n",
       "      <th>15</th>\n",
       "      <td>2019-10-19</td>\n",
       "      <td>7</td>\n",
       "    </tr>\n",
       "    <tr>\n",
       "      <th>16</th>\n",
       "      <td>2019-10-20</td>\n",
       "      <td>9</td>\n",
       "    </tr>\n",
       "    <tr>\n",
       "      <th>17</th>\n",
       "      <td>2019-10-21</td>\n",
       "      <td>11</td>\n",
       "    </tr>\n",
       "    <tr>\n",
       "      <th>18</th>\n",
       "      <td>2019-10-22</td>\n",
       "      <td>11</td>\n",
       "    </tr>\n",
       "    <tr>\n",
       "      <th>19</th>\n",
       "      <td>2019-10-23</td>\n",
       "      <td>12</td>\n",
       "    </tr>\n",
       "    <tr>\n",
       "      <th>20</th>\n",
       "      <td>2019-10-24</td>\n",
       "      <td>10</td>\n",
       "    </tr>\n",
       "    <tr>\n",
       "      <th>21</th>\n",
       "      <td>2019-10-25</td>\n",
       "      <td>9</td>\n",
       "    </tr>\n",
       "    <tr>\n",
       "      <th>22</th>\n",
       "      <td>2019-10-26</td>\n",
       "      <td>6</td>\n",
       "    </tr>\n",
       "    <tr>\n",
       "      <th>23</th>\n",
       "      <td>2019-10-27</td>\n",
       "      <td>3</td>\n",
       "    </tr>\n",
       "    <tr>\n",
       "      <th>24</th>\n",
       "      <td>2019-10-28</td>\n",
       "      <td>8</td>\n",
       "    </tr>\n",
       "    <tr>\n",
       "      <th>25</th>\n",
       "      <td>2019-10-29</td>\n",
       "      <td>10</td>\n",
       "    </tr>\n",
       "    <tr>\n",
       "      <th>26</th>\n",
       "      <td>2019-10-30</td>\n",
       "      <td>9</td>\n",
       "    </tr>\n",
       "    <tr>\n",
       "      <th>27</th>\n",
       "      <td>2019-10-31</td>\n",
       "      <td>4</td>\n",
       "    </tr>\n",
       "    <tr>\n",
       "      <th>28</th>\n",
       "      <td>2019-11-01</td>\n",
       "      <td>2</td>\n",
       "    </tr>\n",
       "    <tr>\n",
       "      <th>29</th>\n",
       "      <td>2019-11-02</td>\n",
       "      <td>3</td>\n",
       "    </tr>\n",
       "    <tr>\n",
       "      <th>...</th>\n",
       "      <td>...</td>\n",
       "      <td>...</td>\n",
       "    </tr>\n",
       "    <tr>\n",
       "      <th>41</th>\n",
       "      <td>2019-11-14</td>\n",
       "      <td>9</td>\n",
       "    </tr>\n",
       "    <tr>\n",
       "      <th>42</th>\n",
       "      <td>2019-11-15</td>\n",
       "      <td>10</td>\n",
       "    </tr>\n",
       "    <tr>\n",
       "      <th>43</th>\n",
       "      <td>2019-11-16</td>\n",
       "      <td>3</td>\n",
       "    </tr>\n",
       "    <tr>\n",
       "      <th>44</th>\n",
       "      <td>2019-11-17</td>\n",
       "      <td>5</td>\n",
       "    </tr>\n",
       "    <tr>\n",
       "      <th>45</th>\n",
       "      <td>2019-11-18</td>\n",
       "      <td>7</td>\n",
       "    </tr>\n",
       "    <tr>\n",
       "      <th>46</th>\n",
       "      <td>2019-11-19</td>\n",
       "      <td>8</td>\n",
       "    </tr>\n",
       "    <tr>\n",
       "      <th>47</th>\n",
       "      <td>2019-11-20</td>\n",
       "      <td>7</td>\n",
       "    </tr>\n",
       "    <tr>\n",
       "      <th>48</th>\n",
       "      <td>2019-11-21</td>\n",
       "      <td>7</td>\n",
       "    </tr>\n",
       "    <tr>\n",
       "      <th>49</th>\n",
       "      <td>2019-11-22</td>\n",
       "      <td>5</td>\n",
       "    </tr>\n",
       "    <tr>\n",
       "      <th>50</th>\n",
       "      <td>2019-11-23</td>\n",
       "      <td>5</td>\n",
       "    </tr>\n",
       "    <tr>\n",
       "      <th>51</th>\n",
       "      <td>2019-11-24</td>\n",
       "      <td>3</td>\n",
       "    </tr>\n",
       "    <tr>\n",
       "      <th>52</th>\n",
       "      <td>2019-11-25</td>\n",
       "      <td>6</td>\n",
       "    </tr>\n",
       "    <tr>\n",
       "      <th>53</th>\n",
       "      <td>2019-11-26</td>\n",
       "      <td>7</td>\n",
       "    </tr>\n",
       "    <tr>\n",
       "      <th>54</th>\n",
       "      <td>2019-11-27</td>\n",
       "      <td>9</td>\n",
       "    </tr>\n",
       "    <tr>\n",
       "      <th>55</th>\n",
       "      <td>2019-11-28</td>\n",
       "      <td>6</td>\n",
       "    </tr>\n",
       "    <tr>\n",
       "      <th>56</th>\n",
       "      <td>2019-11-29</td>\n",
       "      <td>6</td>\n",
       "    </tr>\n",
       "    <tr>\n",
       "      <th>57</th>\n",
       "      <td>2019-11-30</td>\n",
       "      <td>3</td>\n",
       "    </tr>\n",
       "    <tr>\n",
       "      <th>58</th>\n",
       "      <td>2019-12-01</td>\n",
       "      <td>3</td>\n",
       "    </tr>\n",
       "    <tr>\n",
       "      <th>59</th>\n",
       "      <td>2019-12-02</td>\n",
       "      <td>6</td>\n",
       "    </tr>\n",
       "    <tr>\n",
       "      <th>60</th>\n",
       "      <td>2019-12-03</td>\n",
       "      <td>7</td>\n",
       "    </tr>\n",
       "    <tr>\n",
       "      <th>61</th>\n",
       "      <td>2019-12-04</td>\n",
       "      <td>7</td>\n",
       "    </tr>\n",
       "    <tr>\n",
       "      <th>62</th>\n",
       "      <td>2019-12-05</td>\n",
       "      <td>7</td>\n",
       "    </tr>\n",
       "    <tr>\n",
       "      <th>63</th>\n",
       "      <td>2019-12-06</td>\n",
       "      <td>5</td>\n",
       "    </tr>\n",
       "    <tr>\n",
       "      <th>64</th>\n",
       "      <td>2019-12-07</td>\n",
       "      <td>2</td>\n",
       "    </tr>\n",
       "    <tr>\n",
       "      <th>65</th>\n",
       "      <td>2019-12-08</td>\n",
       "      <td>4</td>\n",
       "    </tr>\n",
       "    <tr>\n",
       "      <th>66</th>\n",
       "      <td>2019-12-09</td>\n",
       "      <td>6</td>\n",
       "    </tr>\n",
       "    <tr>\n",
       "      <th>67</th>\n",
       "      <td>2019-12-10</td>\n",
       "      <td>6</td>\n",
       "    </tr>\n",
       "    <tr>\n",
       "      <th>68</th>\n",
       "      <td>2019-12-11</td>\n",
       "      <td>8</td>\n",
       "    </tr>\n",
       "    <tr>\n",
       "      <th>69</th>\n",
       "      <td>2019-12-12</td>\n",
       "      <td>7</td>\n",
       "    </tr>\n",
       "    <tr>\n",
       "      <th>70</th>\n",
       "      <td>2019-12-13</td>\n",
       "      <td>7</td>\n",
       "    </tr>\n",
       "  </tbody>\n",
       "</table>\n",
       "<p>71 rows × 2 columns</p>\n",
       "</div>"
      ],
      "text/plain": [
       "         fecha  documentos\n",
       "0   2019-10-04           2\n",
       "1   2019-10-05           3\n",
       "2   2019-10-06           3\n",
       "3   2019-10-07           8\n",
       "4   2019-10-08           5\n",
       "5   2019-10-09           8\n",
       "6   2019-10-10           8\n",
       "7   2019-10-11           6\n",
       "8   2019-10-12           3\n",
       "9   2019-10-13           2\n",
       "10  2019-10-14           6\n",
       "11  2019-10-15           8\n",
       "12  2019-10-16           8\n",
       "13  2019-10-17           6\n",
       "14  2019-10-18          10\n",
       "15  2019-10-19           7\n",
       "16  2019-10-20           9\n",
       "17  2019-10-21          11\n",
       "18  2019-10-22          11\n",
       "19  2019-10-23          12\n",
       "20  2019-10-24          10\n",
       "21  2019-10-25           9\n",
       "22  2019-10-26           6\n",
       "23  2019-10-27           3\n",
       "24  2019-10-28           8\n",
       "25  2019-10-29          10\n",
       "26  2019-10-30           9\n",
       "27  2019-10-31           4\n",
       "28  2019-11-01           2\n",
       "29  2019-11-02           3\n",
       "..         ...         ...\n",
       "41  2019-11-14           9\n",
       "42  2019-11-15          10\n",
       "43  2019-11-16           3\n",
       "44  2019-11-17           5\n",
       "45  2019-11-18           7\n",
       "46  2019-11-19           8\n",
       "47  2019-11-20           7\n",
       "48  2019-11-21           7\n",
       "49  2019-11-22           5\n",
       "50  2019-11-23           5\n",
       "51  2019-11-24           3\n",
       "52  2019-11-25           6\n",
       "53  2019-11-26           7\n",
       "54  2019-11-27           9\n",
       "55  2019-11-28           6\n",
       "56  2019-11-29           6\n",
       "57  2019-11-30           3\n",
       "58  2019-12-01           3\n",
       "59  2019-12-02           6\n",
       "60  2019-12-03           7\n",
       "61  2019-12-04           7\n",
       "62  2019-12-05           7\n",
       "63  2019-12-06           5\n",
       "64  2019-12-07           2\n",
       "65  2019-12-08           4\n",
       "66  2019-12-09           6\n",
       "67  2019-12-10           6\n",
       "68  2019-12-11           8\n",
       "69  2019-12-12           7\n",
       "70  2019-12-13           7\n",
       "\n",
       "[71 rows x 2 columns]"
      ]
     },
     "execution_count": 378,
     "metadata": {},
     "output_type": "execute_result"
    }
   ],
   "source": [
    "#Contar el número de documentos por fecha\n",
    "query=\"\"\"SELECT date as fecha,count(*) as documentos\n",
    "FROM df GROUP BY date;\"\"\"\n",
    "result=sqldf(query)\n",
    "result"
   ]
  },
  {
   "cell_type": "markdown",
   "metadata": {},
   "source": [
    "En este ejemplo, divideremos los datos en cinco segmentos de dos semanas:"
   ]
  },
  {
   "cell_type": "code",
   "execution_count": 379,
   "metadata": {},
   "outputs": [
    {
     "data": {
      "image/png": "[encoded data removed]",
      "text/plain": [
       "<Figure size 1728x864 with 1 Axes>"
      ]
     },
     "metadata": {
      "needs_background": "light"
     },
     "output_type": "display_data"
    }
   ],
   "source": [
    "# libraries\n",
    "import matplotlib.pyplot as plt\n",
    "import numpy as np\n",
    "import seaborn as sns\n",
    "plt.rcParams['figure.figsize'] = [24, 12]\n",
    "\n",
    "time_plot = sns.lineplot(x='fecha',\n",
    "                         y='documentos',\n",
    "                         data=result\n",
    "                         ).set_title('Número de documentos por día')\n",
    "plt.xticks(rotation=70)\n",
    "plt.tick_params(labelsize=12)\n",
    "\n",
    "plt.axvline(x='2019-10-04',color='red')\n",
    "plt.axvline(x='2019-10-18',color='red')\n",
    "plt.axvline(x='2019-11-01',color='red')\n",
    "plt.axvline(x='2019-11-15',color='red')\n",
    "plt.axvline(x='2019-11-29',color='red')\n",
    "plt.axvline(x='2019-12-13',color='red')\n",
    "\n",
    "plt.show()"
   ]
  },
  {
   "cell_type": "code",
   "execution_count": 380,
   "metadata": {},
   "outputs": [
    {
     "data": {
      "text/html": [
       "<div>\n",
       "<style scoped>\n",
       "    .dataframe tbody tr th:only-of-type {\n",
       "        vertical-align: middle;\n",
       "    }\n",
       "\n",
       "    .dataframe tbody tr th {\n",
       "        vertical-align: top;\n",
       "    }\n",
       "\n",
       "    .dataframe thead th {\n",
       "        text-align: right;\n",
       "    }\n",
       "</style>\n",
       "<table border=\"1\" class=\"dataframe\">\n",
       "  <thead>\n",
       "    <tr style=\"text-align: right;\">\n",
       "      <th></th>\n",
       "      <th>'Week 1'</th>\n",
       "      <th>Number of documents</th>\n",
       "    </tr>\n",
       "  </thead>\n",
       "  <tbody>\n",
       "    <tr>\n",
       "      <th>0</th>\n",
       "      <td>Week 1</td>\n",
       "      <td>76</td>\n",
       "    </tr>\n",
       "    <tr>\n",
       "      <th>1</th>\n",
       "      <td>Week 2</td>\n",
       "      <td>119</td>\n",
       "    </tr>\n",
       "    <tr>\n",
       "      <th>2</th>\n",
       "      <td>Week 3</td>\n",
       "      <td>96</td>\n",
       "    </tr>\n",
       "    <tr>\n",
       "      <th>3</th>\n",
       "      <td>Week 4</td>\n",
       "      <td>84</td>\n",
       "    </tr>\n",
       "    <tr>\n",
       "      <th>4</th>\n",
       "      <td>Week 5</td>\n",
       "      <td>78</td>\n",
       "    </tr>\n",
       "  </tbody>\n",
       "</table>\n",
       "</div>"
      ],
      "text/plain": [
       "  'Week 1'  Number of documents\n",
       "0   Week 1                   76\n",
       "1   Week 2                  119\n",
       "2   Week 3                   96\n",
       "3   Week 4                   84\n",
       "4   Week 5                   78"
      ]
     },
     "execution_count": 380,
     "metadata": {},
     "output_type": "execute_result"
    }
   ],
   "source": [
    "q=\"\"\"SELECT 'Week 1',count(*) as 'Number of documents'\n",
    "FROM df WHERE date BETWEEN \"2019-10-04\" AND \"2019-10-17\"\n",
    "UNION\n",
    "SELECT 'Week 2',count(*) as 'Number of documents'\n",
    "FROM df WHERE date BETWEEN \"2019-10-18\" AND \"2019-10-31\"\n",
    "UNION\n",
    "SELECT 'Week 3',count(*) as 'Number of documents'\n",
    "FROM df WHERE date BETWEEN \"2019-11-01\" AND \"2019-11-15\"\n",
    "UNION\n",
    "SELECT 'Week 4',count(*) as 'Number of documents'\n",
    "FROM df WHERE date BETWEEN \"2019-11-16\" AND \"2019-11-29\"\n",
    "UNION\n",
    "SELECT 'Week 5',count(*) as 'Number of documents'\n",
    "FROM df WHERE date BETWEEN \"2019-11-30\" AND \"2019-12-13\"\n",
    ";\"\"\"\n",
    "result=sqldf(q)\n",
    "result"
   ]
  },
  {
   "cell_type": "markdown",
   "metadata": {},
   "source": [
    "Para identificar los _slices_, conservamos el número de documentos por cada segmento:"
   ]
  },
  {
   "cell_type": "code",
   "execution_count": 415,
   "metadata": {},
   "outputs": [],
   "source": [
    "index_slices=[76,119,96,84,78]"
   ]
  },
  {
   "cell_type": "markdown",
   "metadata": {},
   "source": [
    "# 2. Preprocesamientos: filtrar palabras según categoría gramatical y/o extraer palabras claves"
   ]
  },
  {
   "cell_type": "code",
   "execution_count": 382,
   "metadata": {},
   "outputs": [],
   "source": [
    "import spacy\n",
    "nlp = spacy.load('es_core_news_md', disable=['parser','ner','textcat','...'] )"
   ]
  },
  {
   "cell_type": "code",
   "execution_count": 249,
   "metadata": {},
   "outputs": [],
   "source": [
    "def getNouns(dataFrame,columnName):\n",
    "    \n",
    "    for index,rows in dataFrame.iterrows():\n",
    "        \n",
    "        text=rows[columnName]\n",
    "        \n",
    "        filteredText=\"\"\n",
    "        \n",
    "        tokens = nlp(text)\n",
    "        \n",
    "        for token in tokens:\n",
    "            if token.pos_ == \"NOUN\" :\n",
    "                filteredText=filteredText+\" \"+str(token.text.lower().strip())\n",
    "                \n",
    "        dataFrame.loc[index,'nouns']=filteredText"
   ]
  },
  {
   "cell_type": "code",
   "execution_count": 250,
   "metadata": {},
   "outputs": [
    {
     "name": "stdout",
     "output_type": "stream",
     "text": [
      "CPU times: user 19 s, sys: 7.98 ms, total: 19 s\n",
      "Wall time: 4.77 s\n"
     ]
    }
   ],
   "source": [
    "%%time\n",
    "getNouns(df,\"text\")"
   ]
  },
  {
   "cell_type": "code",
   "execution_count": 383,
   "metadata": {},
   "outputs": [],
   "source": [
    "#Código from: https://towardsdatascience.com/textrank-for-keyword-extraction-by-python-c0bae21bcec0\n",
    "\n",
    "from collections import OrderedDict\n",
    "import numpy as np\n",
    "\n",
    "from spacy.lang.es.stop_words import STOP_WORDS\n",
    "\n",
    "nlp.add_pipe(nlp.create_pipe('sentencizer'))\n",
    "\n",
    "class TextRank4Keyword():\n",
    "    \"\"\"Extract keywords from text\"\"\"\n",
    "    \n",
    "    def __init__(self):\n",
    "        self.d = 0.85 # damping coefficient, usually is .85\n",
    "        self.min_diff = 1e-5 # convergence threshold\n",
    "        self.steps = 10 # iteration steps\n",
    "        self.node_weight = None # save keywords and its weight\n",
    "\n",
    "    \n",
    "    def set_stopwords(self, stopwords):  \n",
    "        \"\"\"Set stop words\"\"\"\n",
    "        for word in STOP_WORDS.union(set(stopwords)):\n",
    "            lexeme = nlp.vocab[word]\n",
    "            lexeme.is_stop = True\n",
    "    \n",
    "    def sentence_segment(self, doc, candidate_pos, lower):\n",
    "        \"\"\"Store those words only in cadidate_pos\"\"\"\n",
    "        sentences = []\n",
    "        for sent in doc.sents:\n",
    "            selected_words = []\n",
    "            for token in sent:\n",
    "                # Store words only with cadidate POS tag\n",
    "                if token.pos_ in candidate_pos and token.is_stop is False:\n",
    "                    if lower is True:\n",
    "                        selected_words.append(token.text.lower())\n",
    "                    else:\n",
    "                        selected_words.append(token.text)\n",
    "            sentences.append(selected_words)\n",
    "        return sentences\n",
    "        \n",
    "    def get_vocab(self, sentences):\n",
    "        \"\"\"Get all tokens\"\"\"\n",
    "        vocab = OrderedDict()\n",
    "        i = 0\n",
    "        for sentence in sentences:\n",
    "            for word in sentence:\n",
    "                if word not in vocab:\n",
    "                    vocab[word] = i\n",
    "                    i += 1\n",
    "        return vocab\n",
    "    \n",
    "    def get_token_pairs(self, window_size, sentences):\n",
    "        \"\"\"Build token_pairs from windows in sentences\"\"\"\n",
    "        token_pairs = list()\n",
    "        for sentence in sentences:\n",
    "            for i, word in enumerate(sentence):\n",
    "                for j in range(i+1, i+window_size):\n",
    "                    if j >= len(sentence):\n",
    "                        break\n",
    "                    pair = (word, sentence[j])\n",
    "                    if pair not in token_pairs:\n",
    "                        token_pairs.append(pair)\n",
    "        return token_pairs\n",
    "        \n",
    "    def symmetrize(self, a):\n",
    "        return a + a.T - np.diag(a.diagonal())\n",
    "    \n",
    "    def get_matrix(self, vocab, token_pairs):\n",
    "        \"\"\"Get normalized matrix\"\"\"\n",
    "        # Build matrix\n",
    "        vocab_size = len(vocab)\n",
    "        g = np.zeros((vocab_size, vocab_size), dtype='float')\n",
    "        for word1, word2 in token_pairs:\n",
    "            i, j = vocab[word1], vocab[word2]\n",
    "            g[i][j] = 1\n",
    "            \n",
    "        # Get Symmeric matrix\n",
    "        g = self.symmetrize(g)\n",
    "        \n",
    "        # Normalize matrix by column\n",
    "        norm = np.sum(g, axis=0)\n",
    "        g_norm = np.divide(g, norm, where=norm!=0) # this is ignore the 0 element in norm\n",
    "        \n",
    "        return g_norm\n",
    "\n",
    "    \n",
    "    def get_keywords(self, number=10):\n",
    "        \"\"\"Print top number keywords\"\"\"\n",
    "        l_keywords = []\n",
    "        node_weight = OrderedDict(sorted(self.node_weight.items(), key=lambda t: t[1], reverse=True))\n",
    "        for i, (key, value) in enumerate(node_weight.items()):\n",
    "            #print(key + ' - ' + str(value))\n",
    "            l_keywords.append( (key, value) )\n",
    "            if i > number:\n",
    "                break\n",
    "        return l_keywords\n",
    "        \n",
    "        \n",
    "    def analyze(self, text, \n",
    "                candidate_pos=['NOUN', 'PROPN'], \n",
    "                window_size=4, lower=False, stopwords=list()):\n",
    "        \"\"\"Main function to analyze text\"\"\"\n",
    "        \n",
    "        # Set stop words\n",
    "        self.set_stopwords(stopwords)\n",
    "        \n",
    "        # Pare text by spaCy\n",
    "        doc = nlp(text) #, disable=['parser'])\n",
    "        \n",
    "        # Filter sentences\n",
    "        sentences = self.sentence_segment(doc, candidate_pos, lower) # list of list of words\n",
    "        \n",
    "        # Build vocabulary\n",
    "        vocab = self.get_vocab(sentences)\n",
    "        \n",
    "        # Get token_pairs from windows\n",
    "        token_pairs = self.get_token_pairs(window_size, sentences)\n",
    "        \n",
    "        # Get normalized matrix\n",
    "        g = self.get_matrix(vocab, token_pairs)\n",
    "        \n",
    "        # Initionlization for weight(pagerank value)\n",
    "        pr = np.array([1] * len(vocab))\n",
    "        \n",
    "        # Iteration\n",
    "        previous_pr = 0\n",
    "        for epoch in range(self.steps):\n",
    "            pr = (1-self.d) + self.d * np.dot(g, pr)\n",
    "            if abs(previous_pr - sum(pr))  < self.min_diff:\n",
    "                break\n",
    "            else:\n",
    "                previous_pr = sum(pr)\n",
    "\n",
    "        # Get weight for each node\n",
    "        node_weight = dict()\n",
    "        for word, index in vocab.items():\n",
    "            node_weight[word] = pr[index]\n",
    "        \n",
    "        self.node_weight = node_weight"
   ]
  },
  {
   "cell_type": "code",
   "execution_count": 384,
   "metadata": {},
   "outputs": [],
   "source": [
    "def getKeywords(dataFrame,columnName):\n",
    "    \n",
    "    for index,rows in dataFrame.iterrows():\n",
    "        \n",
    "        text=rows[columnName]\n",
    "        \n",
    "        keywords=\"\"\n",
    "        \n",
    "        tr4w = TextRank4Keyword()\n",
    "        tr4w.analyze(text, candidate_pos = ['NOUN'], window_size=4, lower=False)\n",
    "    \n",
    "        tokens = tr4w.get_keywords(20)\n",
    "\n",
    "        for token in tokens:\n",
    "\n",
    "            keywords=keywords+\" \"+str(token[0])\n",
    "                \n",
    "        dataFrame.loc[index,'keywords']=keywords"
   ]
  },
  {
   "cell_type": "code",
   "execution_count": 385,
   "metadata": {},
   "outputs": [
    {
     "name": "stdout",
     "output_type": "stream",
     "text": [
      "CPU times: user 22.3 s, sys: 27.7 ms, total: 22.4 s\n",
      "Wall time: 5.61 s\n"
     ]
    }
   ],
   "source": [
    "%%time\n",
    "getKeywords(df,\"text\")"
   ]
  },
  {
   "cell_type": "code",
   "execution_count": 386,
   "metadata": {},
   "outputs": [
    {
     "data": {
      "text/html": [
       "<div>\n",
       "<style scoped>\n",
       "    .dataframe tbody tr th:only-of-type {\n",
       "        vertical-align: middle;\n",
       "    }\n",
       "\n",
       "    .dataframe tbody tr th {\n",
       "        vertical-align: top;\n",
       "    }\n",
       "\n",
       "    .dataframe thead th {\n",
       "        text-align: right;\n",
       "    }\n",
       "</style>\n",
       "<table border=\"1\" class=\"dataframe\">\n",
       "  <thead>\n",
       "    <tr style=\"text-align: right;\">\n",
       "      <th></th>\n",
       "      <th>url</th>\n",
       "      <th>date</th>\n",
       "      <th>text</th>\n",
       "      <th>keywords</th>\n",
       "    </tr>\n",
       "  </thead>\n",
       "  <tbody>\n",
       "    <tr>\n",
       "      <th>0</th>\n",
       "      <td>https://www.eldinamo.cl/nacional/2019/12/13/mo...</td>\n",
       "      <td>2019-12-13</td>\n",
       "      <td>El ministro de Vivienda  Cristián Monckeberg  ...</td>\n",
       "      <td>funcionarios delitos hechos corrupción person...</td>\n",
       "    </tr>\n",
       "    <tr>\n",
       "      <th>1</th>\n",
       "      <td>https://www.eldinamo.cl/nacional/2019/12/13/go...</td>\n",
       "      <td>2019-12-13</td>\n",
       "      <td>La Moneda informó que Sebastián Piñera decretó...</td>\n",
       "      <td>víctimas pasajeros bandera sedes familiares c...</td>\n",
       "    </tr>\n",
       "    <tr>\n",
       "      <th>2</th>\n",
       "      <td>https://www.eldinamo.cl/nacional/2019/12/13/co...</td>\n",
       "      <td>2019-12-13</td>\n",
       "      <td>La Corte de apelaciones de Santiago declaró ad...</td>\n",
       "      <td>libertad dirigente resolución expresión derec...</td>\n",
       "    </tr>\n",
       "    <tr>\n",
       "      <th>3</th>\n",
       "      <td>https://www.eldinamo.cl/nacional/2019/12/13/in...</td>\n",
       "      <td>2019-12-13</td>\n",
       "      <td>Luego que durante esta mañana la Organización ...</td>\n",
       "      <td>derechos humanos oficialismo violaciones viol...</td>\n",
       "    </tr>\n",
       "    <tr>\n",
       "      <th>4</th>\n",
       "      <td>https://www.eldinamo.cl/nacional/2019/12/13/in...</td>\n",
       "      <td>2019-12-13</td>\n",
       "      <td>Tras varias semanas de espera  la misión de ob...</td>\n",
       "      <td>derechos informe personas humanos particular ...</td>\n",
       "    </tr>\n",
       "  </tbody>\n",
       "</table>\n",
       "</div>"
      ],
      "text/plain": [
       "                                                 url        date  \\\n",
       "0  https://www.eldinamo.cl/nacional/2019/12/13/mo...  2019-12-13   \n",
       "1  https://www.eldinamo.cl/nacional/2019/12/13/go...  2019-12-13   \n",
       "2  https://www.eldinamo.cl/nacional/2019/12/13/co...  2019-12-13   \n",
       "3  https://www.eldinamo.cl/nacional/2019/12/13/in...  2019-12-13   \n",
       "4  https://www.eldinamo.cl/nacional/2019/12/13/in...  2019-12-13   \n",
       "\n",
       "                                                text  \\\n",
       "0  El ministro de Vivienda  Cristián Monckeberg  ...   \n",
       "1  La Moneda informó que Sebastián Piñera decretó...   \n",
       "2  La Corte de apelaciones de Santiago declaró ad...   \n",
       "3  Luego que durante esta mañana la Organización ...   \n",
       "4  Tras varias semanas de espera  la misión de ob...   \n",
       "\n",
       "                                            keywords  \n",
       "0   funcionarios delitos hechos corrupción person...  \n",
       "1   víctimas pasajeros bandera sedes familiares c...  \n",
       "2   libertad dirigente resolución expresión derec...  \n",
       "3   derechos humanos oficialismo violaciones viol...  \n",
       "4   derechos informe personas humanos particular ...  "
      ]
     },
     "execution_count": 386,
     "metadata": {},
     "output_type": "execute_result"
    }
   ],
   "source": [
    "df[:5]"
   ]
  },
  {
   "cell_type": "markdown",
   "metadata": {},
   "source": [
    "# 4. Representación vectorial de los documentos"
   ]
  },
  {
   "cell_type": "markdown",
   "metadata": {},
   "source": [
    "Utilizaremos la columna \"keywords\" como simplificación de los documentos."
   ]
  },
  {
   "cell_type": "code",
   "execution_count": 268,
   "metadata": {},
   "outputs": [],
   "source": [
    "from gensim.models import TfidfModel\n",
    "from gensim.corpora import Dictionary\n",
    "\n",
    "documents=list(df['keywords'])\n",
    "documents=[x.split(\" \") for x in documents]\n",
    "\n",
    "dictionary = Dictionary(documents)\n",
    "\n",
    "#dictionary.filter_extremes(no_below=0,no_above=0.99)\n",
    "\n",
    "dictionary.filter_n_most_frequent(1)\n",
    "\n",
    "corpus = [dictionary.doc2bow(doc) for doc in documents] \n",
    "\n",
    "model = TfidfModel(corpus)\n",
    "\n",
    "vectorizedCorpus = model[corpus]"
   ]
  },
  {
   "cell_type": "markdown",
   "metadata": {},
   "source": [
    "## 3. Optimización de modelos de tópicos dinámicos"
   ]
  },
  {
   "cell_type": "markdown",
   "metadata": {},
   "source": [
    "Entrenamos modelos con k_topics entre 5 y 12, y guardamos los modelos en archivos."
   ]
  },
  {
   "cell_type": "code",
   "execution_count": 289,
   "metadata": {},
   "outputs": [
    {
     "name": "stderr",
     "output_type": "stream",
     "text": [
      "/home/mvernier/miniconda3/envs/NLP/lib/python3.7/site-packages/gensim/models/ldaseqmodel.py:230: RuntimeWarning: divide by zero encountered in double_scalars\n",
      "  convergence = np.fabs((bound - old_bound) / old_bound)\n"
     ]
    },
    {
     "name": "stdout",
     "output_type": "stream",
     "text": [
      "6 Topics - Tiempo necesario para la optimización del modelo: 377.05106139183044\n",
      "/home/mvernier/Documentos/trabajo/investigacion/2019/EVIC2019/models/model_6_topics\n"
     ]
    },
    {
     "name": "stderr",
     "output_type": "stream",
     "text": [
      "/home/mvernier/miniconda3/envs/NLP/lib/python3.7/site-packages/gensim/models/ldaseqmodel.py:230: RuntimeWarning: divide by zero encountered in double_scalars\n",
      "  convergence = np.fabs((bound - old_bound) / old_bound)\n"
     ]
    },
    {
     "name": "stdout",
     "output_type": "stream",
     "text": [
      "7 Topics - Tiempo necesario para la optimización del modelo: 410.90944933891296\n",
      "/home/mvernier/Documentos/trabajo/investigacion/2019/EVIC2019/models/model_7_topics\n"
     ]
    },
    {
     "name": "stderr",
     "output_type": "stream",
     "text": [
      "/home/mvernier/miniconda3/envs/NLP/lib/python3.7/site-packages/gensim/models/ldaseqmodel.py:230: RuntimeWarning: divide by zero encountered in double_scalars\n",
      "  convergence = np.fabs((bound - old_bound) / old_bound)\n"
     ]
    },
    {
     "name": "stdout",
     "output_type": "stream",
     "text": [
      "8 Topics - Tiempo necesario para la optimización del modelo: 433.9345374107361\n",
      "/home/mvernier/Documentos/trabajo/investigacion/2019/EVIC2019/models/model_8_topics\n"
     ]
    },
    {
     "name": "stderr",
     "output_type": "stream",
     "text": [
      "/home/mvernier/miniconda3/envs/NLP/lib/python3.7/site-packages/gensim/models/ldaseqmodel.py:230: RuntimeWarning: divide by zero encountered in double_scalars\n",
      "  convergence = np.fabs((bound - old_bound) / old_bound)\n"
     ]
    },
    {
     "name": "stdout",
     "output_type": "stream",
     "text": [
      "9 Topics - Tiempo necesario para la optimización del modelo: 521.8493146896362\n",
      "/home/mvernier/Documentos/trabajo/investigacion/2019/EVIC2019/models/model_9_topics\n"
     ]
    },
    {
     "name": "stderr",
     "output_type": "stream",
     "text": [
      "/home/mvernier/miniconda3/envs/NLP/lib/python3.7/site-packages/gensim/models/ldaseqmodel.py:230: RuntimeWarning: divide by zero encountered in double_scalars\n",
      "  convergence = np.fabs((bound - old_bound) / old_bound)\n"
     ]
    },
    {
     "name": "stdout",
     "output_type": "stream",
     "text": [
      "10 Topics - Tiempo necesario para la optimización del modelo: 573.5101914405823\n",
      "/home/mvernier/Documentos/trabajo/investigacion/2019/EVIC2019/models/model_10_topics\n"
     ]
    },
    {
     "name": "stderr",
     "output_type": "stream",
     "text": [
      "/home/mvernier/miniconda3/envs/NLP/lib/python3.7/site-packages/gensim/models/ldaseqmodel.py:230: RuntimeWarning: divide by zero encountered in double_scalars\n",
      "  convergence = np.fabs((bound - old_bound) / old_bound)\n"
     ]
    },
    {
     "name": "stdout",
     "output_type": "stream",
     "text": [
      "11 Topics - Tiempo necesario para la optimización del modelo: 722.3302731513977\n",
      "/home/mvernier/Documentos/trabajo/investigacion/2019/EVIC2019/models/model_11_topics\n"
     ]
    },
    {
     "name": "stderr",
     "output_type": "stream",
     "text": [
      "/home/mvernier/miniconda3/envs/NLP/lib/python3.7/site-packages/gensim/models/ldaseqmodel.py:230: RuntimeWarning: divide by zero encountered in double_scalars\n",
      "  convergence = np.fabs((bound - old_bound) / old_bound)\n"
     ]
    },
    {
     "name": "stdout",
     "output_type": "stream",
     "text": [
      "12 Topics - Tiempo necesario para la optimización del modelo: 688.9693760871887\n",
      "/home/mvernier/Documentos/trabajo/investigacion/2019/EVIC2019/models/model_12_topics\n",
      "CPU times: user 1h 4min 28s, sys: 4.3 s, total: 1h 4min 33s\n",
      "Wall time: 1h 2min 8s\n"
     ]
    }
   ],
   "source": [
    "%%time\n",
    "from IPython.display import Audio\n",
    "import numpy as np\n",
    "\n",
    "from gensim.models import ldaseqmodel\n",
    "from gensim.corpora import Dictionary, bleicorpus\n",
    "from gensim.matutils import hellinger\n",
    "from gensim.models.coherencemodel import CoherenceModel\n",
    "from gensim.test.utils import common_corpus\n",
    "from gensim.test.utils import datapath\n",
    "\n",
    "import time\n",
    "\n",
    "k_topics=5\n",
    "\n",
    "for i in range(8):\n",
    "\n",
    "    init=time.time()\n",
    "\n",
    "    s=time.time()\n",
    "\n",
    "    ldaseq = ldaseqmodel.LdaSeqModel(corpus=corpus, id2word=dictionary, time_slice=index_slices, \n",
    "                                 num_topics=k_topics+i,\n",
    "                                 chain_variance=0.3,\n",
    "                                 alphas=0.9,\n",
    "                                 passes=100,\n",
    "                                 chunksize=24000,\n",
    "                                 em_min_iter=6,\n",
    "                                 em_max_iter=30)\n",
    "\n",
    "    DTM_models.append(ldaseq)\n",
    "\n",
    "    e=time.time()\n",
    "    print(str(k_topics+i)+\" Topics - Tiempo necesario para la optimización del modelo:\",(e-s))\n",
    "\n",
    "    end=time.time()\n",
    "    #print(end-init)\n",
    "    \n",
    "    #se guarda el modelo\n",
    "    path_of_model = datapath(\"/home/mvernier/Documentos/trabajo/investigacion/2019/EVIC2019/models/model_\"+str(k_topics+i)+\"_topics\")\n",
    "    print(path_of_model)\n",
    "    ldaseq.save(path_of_model)"
   ]
  },
  {
   "cell_type": "markdown",
   "metadata": {},
   "source": [
    "# 4. Evaluación de los modelos"
   ]
  },
  {
   "cell_type": "code",
   "execution_count": 387,
   "metadata": {},
   "outputs": [],
   "source": [
    "from gensim.models import LdaSeqModel\n",
    "\n",
    "k_topics=5\n",
    "\n",
    "model_coherences=list()\n",
    "\n",
    "for i in range(8):\n",
    "    path_of_model = datapath(PATH+\"model_\"+str(k_topics+i)+\"_topics\")\n",
    "    ldaseq = LdaSeqModel.load(path_of_model)\n",
    "    \n",
    "    coherenceValues=list()\n",
    "    for time_fragment in range(5):\n",
    "        topics_wrapper = ldaseq.dtm_coherence(time=time_fragment)\n",
    "        cm_wrapper_cv = CoherenceModel(topics=topics_wrapper, texts=documents, dictionary=dictionary, coherence='c_v')\n",
    "        coherenceValues.append(cm_wrapper_cv.get_coherence())\n",
    "    \n",
    "    averageCoherenceValue = sum(coherenceValues) / len(coherenceValues) \n",
    "    model_coherences.append(averageCoherenceValue)"
   ]
  },
  {
   "cell_type": "code",
   "execution_count": 388,
   "metadata": {},
   "outputs": [
    {
     "data": {
      "text/plain": [
       "[0.27482184461056225,\n",
       " 0.29259697857019845,\n",
       " 0.31872545369862026,\n",
       " 0.3249640139574284,\n",
       " 0.30351855496626345,\n",
       " 0.3239216525786464,\n",
       " 0.31481789863579224,\n",
       " 0.33794882116663005]"
      ]
     },
     "execution_count": 388,
     "metadata": {},
     "output_type": "execute_result"
    }
   ],
   "source": [
    "model_coherences"
   ]
  },
  {
   "cell_type": "code",
   "execution_count": 394,
   "metadata": {},
   "outputs": [
    {
     "data": {
      "image/png": "[encoded data removed]",
      "text/plain": [
       "<Figure size 1728x864 with 1 Axes>"
      ]
     },
     "metadata": {
      "needs_background": "light"
     },
     "output_type": "display_data"
    }
   ],
   "source": [
    "# libraries and data\n",
    "import matplotlib.pyplot as plt\n",
    "import numpy as np\n",
    "\n",
    "xvalues=[\"5\",\"6\",\"7\",\"8\",\"9\",\"10\",\"11\",\"12\"]\n",
    "\n",
    "df_fig1=pd.DataFrame({'xvalues': xvalues, 'yvalues': model_coherences })\n",
    "\n",
    "fig, ax = plt.subplots()\n",
    "\n",
    "plt.plot( 'xvalues', 'yvalues', data=df_fig1)\n",
    "ax.set_xlabel('Modelo con K tópicos')\n",
    "ax.set_ylabel('Puntaje de Coherencia')\n",
    "plt.show()"
   ]
  },
  {
   "cell_type": "code",
   "execution_count": 395,
   "metadata": {},
   "outputs": [],
   "source": [
    "path_of_model = datapath(PATH+\"model_\"+str(8)+\"_topics\")\n",
    "ldaseq = LdaSeqModel.load(path_of_model)"
   ]
  },
  {
   "cell_type": "markdown",
   "metadata": {},
   "source": [
    "# 5. Análisis de la evolución del discurso"
   ]
  },
  {
   "cell_type": "markdown",
   "metadata": {},
   "source": [
    "#### 5.1 Tópico 0"
   ]
  },
  {
   "cell_type": "code",
   "execution_count": 372,
   "metadata": {},
   "outputs": [],
   "source": [
    "table=[]\n",
    "for i in range(5):\n",
    "    row=[\"slice \"+str(i)]\n",
    "    keywords=ldaseq.print_topic(topic=0,time=i,top_terms=35)\n",
    "    for keyword in keywords:\n",
    "        row.append(str(keyword[0])+\", \"+str(round(keyword[1],3)))\n",
    "    table.append(row)"
   ]
  },
  {
   "cell_type": "code",
   "execution_count": 373,
   "metadata": {},
   "outputs": [
    {
     "data": {
      "text/html": [
       "<table>\n",
       "<tbody>\n",
       "<tr><td>slice 0</td><td>años, 0.026         </td><td>personas, 0.021</td><td>delito, 0.016  </td><td>delitos, 0.015 </td><td>investigación, 0.015</td><td>joven, 0.013        </td><td>familiares, 0.012</td><td>hechos, 0.012  </td><td>meses, 0.012       </td><td>lesiones, 0.011 </td><td>búsqueda, 0.011</td><td>avión, 0.011   </td><td>comuna, 0.011  </td><td>prisión, 0.011</td><td>muerte, 0.009 </td><td>información, 0.009</td><td>riesgo, 0.009  </td><td>víctima, 0.009     </td><td>incendio, 0.008    </td><td>diciembre, 0.008</td><td>vehículo, 0.007</td><td>casa, 0.007     </td><td>víctimas, 0.007 </td><td>denuncia, 0.007  </td><td>redes, 0.007       </td><td>homicidio, 0.007 </td><td>aeronave, 0.007</td><td>familia, 0.007   </td><td>interior, 0.007</td><td>apoyo, 0.007   </td><td>fiscal, 0.007  </td><td>martes, 0.006  </td><td>edad, 0.006  </td><td>caso, 0.006    </td><td>fuego, 0.006   </td></tr>\n",
       "<tr><td>slice 1</td><td>años, 0.035         </td><td>joven, 0.021   </td><td>personas, 0.021</td><td>delito, 0.02   </td><td>investigación, 0.016</td><td>comuna, 0.014       </td><td>prisión, 0.013   </td><td>víctima, 0.012 </td><td>incendio, 0.012    </td><td>delitos, 0.012  </td><td>muerte, 0.011  </td><td>meses, 0.01    </td><td>interior, 0.01 </td><td>hechos, 0.01  </td><td>casa, 0.009   </td><td>familia, 0.009    </td><td>vehículo, 0.009</td><td>redes, 0.009       </td><td>edad, 0.009        </td><td>lesiones, 0.009 </td><td>riesgo, 0.008  </td><td>fiscal, 0.008   </td><td>homicidio, 0.008</td><td>apoyo, 0.008     </td><td>antecedentes, 0.008</td><td>familiares, 0.007</td><td>denuncia, 0.007</td><td>martes, 0.007    </td><td>tipo, 0.007    </td><td>justicia, 0.007</td><td>calle, 0.007   </td><td>caso, 0.006    </td><td>hombre, 0.006</td><td>bala, 0.006    </td><td>ingreso, 0.006 </td></tr>\n",
       "<tr><td>slice 2</td><td>años, 0.026         </td><td>personas, 0.02 </td><td>delito, 0.019  </td><td>joven, 0.019   </td><td>víctima, 0.016      </td><td>investigación, 0.015</td><td>delitos, 0.015   </td><td>hechos, 0.013  </td><td>apoyo, 0.013       </td><td>comuna, 0.012   </td><td>incendio, 0.012</td><td>interior, 0.011</td><td>lesiones, 0.011</td><td>fiscal, 0.011 </td><td>familia, 0.01 </td><td>riesgo, 0.009     </td><td>prisión, 0.009 </td><td>gravedad, 0.009    </td><td>antecedentes, 0.009</td><td>impacto, 0.008  </td><td>casa, 0.008    </td><td>ingreso, 0.008  </td><td>meses, 0.008    </td><td>edad, 0.008      </td><td>denuncia, 0.008    </td><td>homicidio, 0.008 </td><td>vehículo, 0.008</td><td>bala, 0.008      </td><td>justicia, 0.007</td><td>calle, 0.007   </td><td>tipo, 0.007    </td><td>martes, 0.007  </td><td>redes, 0.007 </td><td>hombre, 0.007  </td><td>muerte, 0.007  </td></tr>\n",
       "<tr><td>slice 3</td><td>personas, 0.025     </td><td>años, 0.022    </td><td>delito, 0.017  </td><td>lesiones, 0.016</td><td>investigación, 0.015</td><td>comuna, 0.014       </td><td>víctima, 0.014   </td><td>delitos, 0.014 </td><td>hechos, 0.013      </td><td>joven, 0.012    </td><td>justicia, 0.011</td><td>edad, 0.011    </td><td>incendio, 0.011</td><td>apoyo, 0.01   </td><td>fiscal, 0.01  </td><td>familia, 0.01     </td><td>riesgo, 0.01   </td><td>antecedentes, 0.009</td><td>ingreso, 0.009     </td><td>hombre, 0.008   </td><td>resto, 0.008   </td><td>homicidio, 0.008</td><td>efecto, 0.008   </td><td>denuncia, 0.008  </td><td>meses, 0.008       </td><td>casa, 0.008      </td><td>interior, 0.007</td><td>familiares, 0.007</td><td>bala, 0.007    </td><td>prisión, 0.007 </td><td>víctimas, 0.007</td><td>gravedad, 0.007</td><td>muerte, 0.007</td><td>martes, 0.007  </td><td>vehículo, 0.007</td></tr>\n",
       "<tr><td>slice 4</td><td>investigación, 0.024</td><td>delito, 0.021  </td><td>años, 0.018    </td><td>delitos, 0.018 </td><td>personas, 0.016     </td><td>familia, 0.013      </td><td>víctima, 0.013   </td><td>justicia, 0.013</td><td>antecedentes, 0.011</td><td>homicidio, 0.011</td><td>fiscal, 0.011  </td><td>hechos, 0.011  </td><td>meses, 0.01    </td><td>lesiones, 0.01</td><td>víctimas, 0.01</td><td>edad, 0.01        </td><td>padre, 0.01    </td><td>casa, 0.01         </td><td>comuna, 0.009      </td><td>joven, 0.009    </td><td>riesgo, 0.009  </td><td>denuncia, 0.008 </td><td>incendio, 0.008 </td><td>familiares, 0.008</td><td>apoyo, 0.008       </td><td>vehículo, 0.008  </td><td>ingreso, 0.007 </td><td>hombre, 0.007    </td><td>persona, 0.007 </td><td>vivienda, 0.007</td><td>caso, 0.007    </td><td>vecinos, 0.007 </td><td>bala, 0.007  </td><td>especies, 0.007</td><td>resto, 0.007   </td></tr>\n",
       "</tbody>\n",
       "</table>"
      ],
      "text/plain": [
       "<IPython.core.display.HTML object>"
      ]
     },
     "metadata": {},
     "output_type": "display_data"
    }
   ],
   "source": [
    "from IPython.display import HTML, display\n",
    "import tabulate\n",
    "\n",
    "display(HTML(tabulate.tabulate(table, tablefmt='html')))"
   ]
  },
  {
   "cell_type": "markdown",
   "metadata": {},
   "source": [
    "####  Dar un nombre al tópico 0\n",
    "\n",
    "\"Delitos - personas jovenes\" (?)"
   ]
  },
  {
   "cell_type": "markdown",
   "metadata": {},
   "source": [
    "#### Visualizar la evolución de ciertas palabras en un tópico dado"
   ]
  },
  {
   "cell_type": "code",
   "execution_count": 397,
   "metadata": {},
   "outputs": [
    {
     "name": "stdout",
     "output_type": "stream",
     "text": [
      "('justicia', 0.005064839083800502)\n",
      "('justicia', 0.006713407033091573)\n",
      "('justicia', 0.007459231947979736)\n",
      "('justicia', 0.011163796424449588)\n",
      "('justicia', 0.012743059551986057)\n"
     ]
    }
   ],
   "source": [
    "keyword=\"justicia\"\n",
    "topic=0\n",
    "xvalues1=[\"slice 0\",\"slice 1\",\"slice 2\", \"slice 3\", \"slice 4\"]\n",
    "yvalues1=[]\n",
    "\n",
    "for i in range(5):\n",
    "    keywords=ldaseq.print_topic(topic=0,time=i,top_terms=1000)\n",
    "    for k in keywords:\n",
    "        newValue=0\n",
    "        if (k[0] == keyword):\n",
    "            newValue=k[1]\n",
    "            print(k)\n",
    "            break\n",
    "    yvalues1.append(newValue)"
   ]
  },
  {
   "cell_type": "code",
   "execution_count": 398,
   "metadata": {},
   "outputs": [
    {
     "name": "stdout",
     "output_type": "stream",
     "text": [
      "('incendio', 0.0082341952633622)\n",
      "('incendio', 0.01194373425556553)\n",
      "('incendio', 0.01219775738585212)\n",
      "('incendio', 0.010874759995434675)\n",
      "('incendio', 0.008390810400460882)\n"
     ]
    }
   ],
   "source": [
    "keyword=\"incendio\"\n",
    "topic=0\n",
    "xvalues2=[\"slice 0\",\"slice 1\",\"slice 2\", \"slice 3\", \"slice 4\"]\n",
    "yvalues2=[]\n",
    "\n",
    "for i in range(5):\n",
    "    keywords=ldaseq.print_topic(topic=0,time=i,top_terms=1000)\n",
    "    for k in keywords:\n",
    "        newValue=0\n",
    "        if (k[0] == keyword):\n",
    "            newValue=k[1]\n",
    "            print(k)\n",
    "            break\n",
    "    yvalues2.append(newValue)"
   ]
  },
  {
   "cell_type": "code",
   "execution_count": 402,
   "metadata": {},
   "outputs": [
    {
     "data": {
      "image/png": "[encoded data removed]",
      "text/plain": [
       "<Figure size 1728x864 with 1 Axes>"
      ]
     },
     "metadata": {
      "needs_background": "light"
     },
     "output_type": "display_data"
    }
   ],
   "source": [
    "# libraries and data\n",
    "import matplotlib.pyplot as plt\n",
    "import numpy as np\n",
    "\n",
    "fig, ax = plt.subplots()\n",
    "\n",
    "df=pd.DataFrame({'xvalues': xvalues1, 'yvalues': yvalues1 })\n",
    "plt.plot( 'xvalues', 'yvalues', data=df, label=\"justicia\")\n",
    "\n",
    "df=pd.DataFrame({'xvalues': xvalues2, 'yvalues': yvalues2 })\n",
    "plt.plot( 'xvalues', 'yvalues', data=df, label=\"incendio\")\n",
    "\n",
    "ax.legend()\n",
    "plt.show()"
   ]
  },
  {
   "cell_type": "markdown",
   "metadata": {},
   "source": [
    "#### 5.2 Tópico 1"
   ]
  },
  {
   "cell_type": "code",
   "execution_count": 343,
   "metadata": {},
   "outputs": [],
   "source": [
    "table=[]\n",
    "for i in range(5):\n",
    "    row=[\"slice \"+str(i)]\n",
    "    keywords=ldaseq.print_topic(topic=1,time=i,top_terms=35)\n",
    "    for keyword in keywords:\n",
    "        row.append(str(keyword[0])+\", \"+str(round(keyword[1],3)))\n",
    "    table.append(row)"
   ]
  },
  {
   "cell_type": "code",
   "execution_count": 344,
   "metadata": {},
   "outputs": [
    {
     "data": {
      "text/html": [
       "<table>\n",
       "<tbody>\n",
       "<tr><td>slice 0</td><td>personas, 0.03        </td><td>situación, 0.027</td><td>manifestaciones, 0.016</td><td>funcionarios, 0.015   </td><td>institución, 0.015 </td><td>materia, 0.015    </td><td>información, 0.014</td><td>jefe, 0.014        </td><td>favor, 0.012      </td><td>apoyo, 0.012          </td><td>carabineros, 0.011</td><td>armas, 0.009    </td><td>frente, 0.009   </td><td>país, 0.009       </td><td>madrugada, 0.009</td><td>perdigones, 0.009</td><td>empresas, 0.008 </td><td>vida, 0.008     </td><td>interior, 0.008   </td><td>número, 0.008   </td><td>martes, 0.008     </td><td>autoridades, 0.007</td><td>cuerpo, 0.007   </td><td>ministro, 0.007</td><td>octubre, 0.007 </td><td>producto, 0.007</td><td>funcionario, 0.006</td><td>atención, 0.006</td><td>organismo, 0.006  </td><td>labores, 0.006    </td><td>caso, 0.006       </td><td>balines, 0.006 </td><td>ministros, 0.006 </td><td>comunas, 0.006    </td><td>acceso, 0.006   </td></tr>\n",
       "<tr><td>slice 1</td><td>manifestaciones, 0.026</td><td>personas, 0.023 </td><td>situación, 0.023      </td><td>carabineros, 0.017    </td><td>funcionarios, 0.016</td><td>perdigones, 0.015 </td><td>institución, 0.015</td><td>frente, 0.012      </td><td>información, 0.01 </td><td>armas, 0.01           </td><td>favor, 0.01       </td><td>vida, 0.009     </td><td>país, 0.009     </td><td>jefe, 0.009       </td><td>apoyo, 0.009    </td><td>comunas, 0.008   </td><td>madrugada, 0.007</td><td>materia, 0.007  </td><td>funcionario, 0.007</td><td>atención, 0.007 </td><td>número, 0.007     </td><td>autoridades, 0.007</td><td>organismo, 0.007</td><td>interior, 0.007</td><td>balines, 0.007 </td><td>paro, 0.006    </td><td>ministro, 0.006   </td><td>caso, 0.006    </td><td>acceso, 0.006     </td><td>cuerpo, 0.006     </td><td>octubre, 0.006    </td><td>martes, 0.006  </td><td>torno, 0.006     </td><td>personal, 0.006   </td><td>detenidos, 0.006</td></tr>\n",
       "<tr><td>slice 2</td><td>manifestaciones, 0.026</td><td>personas, 0.024 </td><td>situación, 0.024      </td><td>funcionarios, 0.022   </td><td>carabineros, 0.016 </td><td>perdigones, 0.014 </td><td>información, 0.012</td><td>país, 0.011        </td><td>institución, 0.011</td><td>comunas, 0.01         </td><td>organismo, 0.01   </td><td>vida, 0.009     </td><td>balines, 0.009  </td><td>toque, 0.008      </td><td>número, 0.008   </td><td>frente, 0.008    </td><td>caso, 0.008     </td><td>denuncias, 0.008</td><td>jefe, 0.008       </td><td>apoyo, 0.008    </td><td>autoridades, 0.007</td><td>acceso, 0.007     </td><td>ministro, 0.007 </td><td>niños, 0.007   </td><td>queda, 0.007   </td><td>favor, 0.007   </td><td>armas, 0.006      </td><td>atención, 0.006</td><td>capital, 0.006    </td><td>materia, 0.006    </td><td>detenidos, 0.006  </td><td>proyecto, 0.006</td><td>madrugada, 0.006 </td><td>funcionario, 0.006</td><td>nivel, 0.006    </td></tr>\n",
       "<tr><td>slice 3</td><td>personas, 0.034       </td><td>situación, 0.031</td><td>toque, 0.029          </td><td>manifestaciones, 0.022</td><td>queda, 0.021       </td><td>funcionarios, 0.02</td><td>comunas, 0.018    </td><td>país, 0.017        </td><td>vida, 0.012       </td><td>capital, 0.01         </td><td>información, 0.01 </td><td>organismo, 0.009</td><td>número, 0.009   </td><td>carabineros, 0.009</td><td>frente, 0.009   </td><td>acceso, 0.009    </td><td>hora, 0.008     </td><td>madrugada, 0.008</td><td>estudiantes, 0.008</td><td>denuncias, 0.008</td><td>institución, 0.007</td><td>personal, 0.007   </td><td>favor, 0.007    </td><td>recinto, 0.007 </td><td>nivel, 0.007   </td><td>niños, 0.007   </td><td>detenidos, 0.007  </td><td>jefe, 0.007    </td><td>autoridades, 0.007</td><td>atención, 0.007   </td><td>caso, 0.007       </td><td>ministro, 0.006</td><td>emergencia, 0.006</td><td>balines, 0.006    </td><td>proyecto, 0.006 </td></tr>\n",
       "<tr><td>slice 4</td><td>personas, 0.03        </td><td>país, 0.026     </td><td>situación, 0.024      </td><td>vida, 0.021           </td><td>información, 0.015 </td><td>comunas, 0.014    </td><td>toque, 0.014      </td><td>funcionarios, 0.013</td><td>niños, 0.012      </td><td>manifestaciones, 0.012</td><td>queda, 0.011      </td><td>acceso, 0.011   </td><td>organismo, 0.011</td><td>calidad, 0.01     </td><td>proyecto, 0.01  </td><td>carabineros, 0.01</td><td>recurso, 0.009  </td><td>críticas, 0.009 </td><td>hora, 0.009       </td><td>atención, 0.009 </td><td>capital, 0.009    </td><td>nivel, 0.008      </td><td>madrugada, 0.008</td><td>número, 0.008  </td><td>personal, 0.008</td><td>frente, 0.008  </td><td>ministro, 0.008   </td><td>recinto, 0.008 </td><td>denuncias, 0.007  </td><td>institución, 0.007</td><td>estudiantes, 0.007</td><td>favor, 0.007   </td><td>emergencia, 0.006</td><td>ley, 0.006        </td><td>caso, 0.006     </td></tr>\n",
       "</tbody>\n",
       "</table>"
      ],
      "text/plain": [
       "<IPython.core.display.HTML object>"
      ]
     },
     "metadata": {},
     "output_type": "display_data"
    }
   ],
   "source": [
    "from IPython.display import HTML, display\n",
    "import tabulate\n",
    "\n",
    "display(HTML(tabulate.tabulate(table, tablefmt='html')))"
   ]
  },
  {
   "cell_type": "markdown",
   "metadata": {},
   "source": [
    "####  Dar un nombre al tópico 1\n",
    "\n",
    "\"Manifestaciones - personas\" (?)"
   ]
  },
  {
   "cell_type": "code",
   "execution_count": 404,
   "metadata": {},
   "outputs": [
    {
     "name": "stdout",
     "output_type": "stream",
     "text": [
      "('perdigones', 0.008669295190716093)\n",
      "('perdigones', 0.015181295211796349)\n",
      "('perdigones', 0.013525345674507298)\n",
      "('perdigones', 0.005703168373458058)\n",
      "('perdigones', 0.004588398408871548)\n"
     ]
    }
   ],
   "source": [
    "keyword=\"perdigones\"\n",
    "topic=1\n",
    "xvalues1=[\"slice 0\",\"slice 1\",\"slice 2\", \"slice 3\", \"slice 4\"]\n",
    "yvalues1=[]\n",
    "\n",
    "for i in range(5):\n",
    "    keywords=ldaseq.print_topic(topic=1,time=i,top_terms=1000)\n",
    "    for k in keywords:\n",
    "        newValue=0\n",
    "        if (k[0] == keyword):\n",
    "            newValue=k[1]\n",
    "            print(k)\n",
    "            break\n",
    "    yvalues1.append(newValue)"
   ]
  },
  {
   "cell_type": "code",
   "execution_count": 405,
   "metadata": {},
   "outputs": [
    {
     "data": {
      "image/png": "[encoded data removed]",
      "text/plain": [
       "<Figure size 1728x864 with 1 Axes>"
      ]
     },
     "metadata": {
      "needs_background": "light"
     },
     "output_type": "display_data"
    }
   ],
   "source": [
    "# libraries and data\n",
    "import matplotlib.pyplot as plt\n",
    "\n",
    "fig, ax = plt.subplots()\n",
    "\n",
    "df=pd.DataFrame({'xvalues': xvalues1, 'yvalues': yvalues1 })\n",
    "plt.plot( 'xvalues', 'yvalues', data=df, label=\"perdigones\")\n",
    "\n",
    "ax.legend()\n",
    "plt.show()"
   ]
  },
  {
   "cell_type": "code",
   "execution_count": 413,
   "metadata": {},
   "outputs": [
    {
     "data": {
      "text/html": [
       "<table>\n",
       "<tbody>\n",
       "<tr><td>slice 0</td><td>estallido, 0.033</td><td>año, 0.022   </td><td>octubre, 0.021  </td><td>medidas, 0.014</td><td>servicios, 0.013</td><td>sector, 0.013   </td><td>proyecto, 0.012</td><td>ley, 0.011          </td><td>mes, 0.011          </td><td>manifestación, 0.011</td><td>millones, 0.009     </td><td>noviembre, 0.009   </td><td>datos, 0.009   </td><td>sábado, 0.009</td><td>discusión, 0.009</td><td>intención, 0.009</td><td>miércoles, 0.009</td><td>pesos, 0.009    </td><td>plazo, 0.008    </td><td>$, 0.008          </td><td>lunes, 0.008     </td><td>urgencia, 0.008</td><td>mañana, 0.008   </td><td>vehículos, 0.007</td><td>puntos, 0.007   </td><td>serie, 0.007    </td><td>alza, 0.007  </td><td>región, 0.007    </td><td>causa, 0.006   </td><td>precio, 0.006     </td><td>sistema, 0.006  </td><td>buses, 0.005    </td><td>gestión, 0.005</td><td>martes, 0.005    </td><td>disposición, 0.005</td></tr>\n",
       "<tr><td>slice 1</td><td>octubre, 0.019  </td><td>año, 0.019   </td><td>estallido, 0.017</td><td>medidas, 0.016</td><td>millones, 0.015 </td><td>miércoles, 0.014</td><td>mes, 0.013     </td><td>manifestación, 0.013</td><td>$, 0.013            </td><td>servicios, 0.012    </td><td>noviembre, 0.011    </td><td>alza, 0.01         </td><td>mañana, 0.01   </td><td>plazo, 0.01  </td><td>ley, 0.01       </td><td>pesos, 0.009    </td><td>lunes, 0.009    </td><td>proyecto, 0.009 </td><td>vehículos, 0.009</td><td>sábado, 0.009     </td><td>sector, 0.009    </td><td>precio, 0.009  </td><td>sistema, 0.007  </td><td>causa, 0.007    </td><td>buses, 0.007    </td><td>discusión, 0.007</td><td>datos, 0.007 </td><td>puntos, 0.007    </td><td>martes, 0.006  </td><td>aumento, 0.006    </td><td>serie, 0.006    </td><td>intención, 0.006</td><td>región, 0.006 </td><td>iniciativa, 0.006</td><td>urgencia, 0.006   </td></tr>\n",
       "<tr><td>slice 2</td><td>octubre, 0.021  </td><td>alza, 0.02   </td><td>medidas, 0.019  </td><td>año, 0.017    </td><td>mañana, 0.016   </td><td>lunes, 0.015    </td><td>$, 0.014       </td><td>miércoles, 0.013    </td><td>manifestación, 0.011</td><td>pesos, 0.011        </td><td>estallido, 0.011    </td><td>aumento, 0.011     </td><td>precio, 0.01   </td><td>buses, 0.01  </td><td>sábado, 0.01    </td><td>ley, 0.009      </td><td>millones, 0.009 </td><td>vehículos, 0.009</td><td>servicios, 0.009</td><td>sistema, 0.009    </td><td>martes, 0.008    </td><td>causa, 0.008   </td><td>región, 0.008   </td><td>proyecto, 0.008 </td><td>noviembre, 0.008</td><td>domingo, 0.008  </td><td>sector, 0.008</td><td>plan, 0.007      </td><td>mes, 0.007     </td><td>precios, 0.007    </td><td>plazo, 0.007    </td><td>pasaje, 0.007   </td><td>puntos, 0.007 </td><td>normalidad, 0.007</td><td>productos, 0.006  </td></tr>\n",
       "<tr><td>slice 3</td><td>alza, 0.043     </td><td>mañana, 0.021</td><td>lunes, 0.02     </td><td>$, 0.016      </td><td>medidas, 0.015  </td><td>pasaje, 0.014   </td><td>año, 0.014     </td><td>aumento, 0.014      </td><td>sábado, 0.014       </td><td>octubre, 0.012      </td><td>manifestación, 0.012</td><td>precio, 0.012      </td><td>región, 0.012  </td><td>pesos, 0.012 </td><td>buses, 0.01     </td><td>miércoles, 0.01 </td><td>martes, 0.009   </td><td>tarifa, 0.009   </td><td>domingo, 0.008  </td><td>horario, 0.008    </td><td>normalidad, 0.008</td><td>ley, 0.008     </td><td>servicios, 0.008</td><td>vehículos, 0.008</td><td>sistema, 0.007  </td><td>millones, 0.007 </td><td>sector, 0.007</td><td>puntos, 0.007    </td><td>plan, 0.007    </td><td>disposición, 0.007</td><td>alzas, 0.007    </td><td>productos, 0.007</td><td>datos, 0.007  </td><td>proyecto, 0.007  </td><td>precios, 0.007    </td></tr>\n",
       "<tr><td>slice 4</td><td>año, 0.022      </td><td>alza, 0.02   </td><td>mañana, 0.019   </td><td>aumento, 0.017</td><td>lunes, 0.016    </td><td>región, 0.016   </td><td>$, 0.013       </td><td>pesos, 0.013        </td><td>medidas, 0.012      </td><td>sábado, 0.012       </td><td>pasaje, 0.011       </td><td>manifestación, 0.01</td><td>productos, 0.01</td><td>datos, 0.01  </td><td>millones, 0.009 </td><td>octubre, 0.009  </td><td>vehículos, 0.008</td><td>martes, 0.008   </td><td>servicios, 0.008</td><td>disposición, 0.008</td><td>discusión, 0.008 </td><td>precio, 0.008  </td><td>precios, 0.008  </td><td>sector, 0.008   </td><td>puntos, 0.007   </td><td>mes, 0.007      </td><td>buses, 0.007 </td><td>iniciativa, 0.007</td><td>compañía, 0.007</td><td>tipo, 0.007       </td><td>miércoles, 0.007</td><td>ley, 0.007      </td><td>alzas, 0.007  </td><td>plan, 0.007      </td><td>proyecto, 0.007   </td></tr>\n",
       "</tbody>\n",
       "</table>"
      ],
      "text/plain": [
       "<IPython.core.display.HTML object>"
      ]
     },
     "metadata": {},
     "output_type": "display_data"
    }
   ],
   "source": [
    "#### 3. Otros tópicos\n",
    "\n",
    "table=[]\n",
    "for i in range(5):\n",
    "    row=[\"slice \"+str(i)]\n",
    "    keywords=ldaseq.print_topic(topic=7,time=i,top_terms=35)\n",
    "    for keyword in keywords:\n",
    "        row.append(str(keyword[0])+\", \"+str(round(keyword[1],3)))\n",
    "    table.append(row)\n",
    "    \n",
    "from IPython.display import HTML, display\n",
    "import tabulate\n",
    "\n",
    "display(HTML(tabulate.tabulate(table, tablefmt='html')))"
   ]
  },
  {
   "cell_type": "markdown",
   "metadata": {},
   "source": [
    "- Topico 0 = \"Delitos\"\n",
    "- Topico 1 = \"Manifestaciones\"\n",
    "- Topico 2 = \"Chile\"\n",
    "- Topico 3 = \"Derechos humanos\"\n",
    "- Topico 4 = \"Protestas / Ataques / Saqueos\"\n",
    "- Topico 5 = \"Palabras del Presidente y políticos\"\n",
    "- Topico 6 = \"Seguridad\"\n",
    "- Topico 7 = \"Economía / Precio\""
   ]
  },
  {
   "cell_type": "markdown",
   "metadata": {},
   "source": [
    "# 6. Preguntas\n",
    "\n",
    "1) ¿Cuáles son las limitaciones del protocolo utilizado? ¿Qué se podría mejorar?\n",
    "\n",
    "2) ¿Cómo cientific@s de datos, qué recomendaciones metodólogicas podrían hacer a l@s científic@s sociales/antropólog@s/filósof@s que desean utilizar un protocolo basado sobre Dynamic Topic Models?\n",
    "\n",
    "3) ¿Cómo científic@s de datos y a la luz de los resultados proporcionados por el modelo de tópicos dinámicos, cómo interpretan lo que pasó entre el 4 de octubre y 13 de diciembre? ¿Cómo se podría continuar el análisis para obtener conclusiones más precisas?"
   ]
  },
  {
   "cell_type": "markdown",
   "metadata": {},
   "source": [
    "**En la carpeta 'datasets', se encuentra otro dataset del medio 'el ciudadano'. Les proponemos reproducir un análisis con Dynamic Topic Models para comparar los resultados con 'el dinamo'.**"
   ]
  },
  {
   "cell_type": "code",
   "execution_count": null,
   "metadata": {},
   "outputs": [],
   "source": []
  }
 ],
 "metadata": {
  "kernelspec": {
   "display_name": "NLP",
   "language": "python",
   "name": "nlp"
  },
  "language_info": {
   "codemirror_mode": {
    "name": "ipython",
    "version": 3
   },
   "file_extension": ".py",
   "mimetype": "text/x-python",
   "name": "python",
   "nbconvert_exporter": "python",
   "pygments_lexer": "ipython3",
   "version": "3.7.2"
  }
 },
 "nbformat": 4,
 "nbformat_minor": 2
}
